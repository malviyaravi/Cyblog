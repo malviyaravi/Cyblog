{
 "cells": [
  {
   "cell_type": "code",
   "execution_count": 1,
   "id": "08c50cc7",
   "metadata": {},
   "outputs": [],
   "source": [
    "from IDS_Training_Testing import *\n",
    "from IDS_Bin_Class_Train_Test import *"
   ]
  },
  {
   "cell_type": "code",
   "execution_count": 3,
   "id": "e42e05dc",
   "metadata": {},
   "outputs": [
    {
     "name": "stdout",
     "output_type": "stream",
     "text": [
      "Choose type of classification: \n",
      "1. Binary Classification\n",
      "2. Multiclass Classification\n",
      "1\n",
      "====================Model training=================\n",
      "Select supervised-learning model:\n",
      "1 Logistic Regression Classifier\n",
      "2 Random Forest Classifier\n",
      "3 Decision Tree Classifier\n",
      "4 Naive Bayes Classifier\n",
      "5 AdaBoost Classifier\n",
      "6 ANN Classifier\n",
      "2\n",
      "Training  Random Forest Classifier\n",
      "Hyperparameter Selection: \n",
      "Enter number of estimators: \n",
      "100\n",
      "Enter maximum depth: \n",
      "4\n",
      "Enter minimum samples split: \n",
      "3\n",
      "Enter maximum number of features for splitting: \n",
      "1 auto\n",
      "2 sqrt\n",
      "3 log2\n",
      "4 None\n",
      "2\n",
      "\n",
      "==============================  Model performance on training data ==============================\n",
      "\n",
      "Training Accuracy:\n",
      " 0.9631825867447786\n",
      "\n",
      "Confusion matrix for training data:\n",
      " [[54513  4117]\n",
      " [  521 66822]]\n",
      "\n",
      "Classification report for training data:\n",
      "               precision    recall  f1-score   support\n",
      "\n",
      "           0       0.99      0.93      0.96     58630\n",
      "           1       0.94      0.99      0.97     67343\n",
      "\n",
      "    accuracy                           0.96    125973\n",
      "   macro avg       0.97      0.96      0.96    125973\n",
      "weighted avg       0.96      0.96      0.96    125973\n",
      "\n",
      "\n",
      "==============================  Model performance on testing data ==============================\n",
      "\n",
      "Testing Accuracy:\n",
      " 0.7679648687012065\n",
      "\n",
      "Confusion matrix for testing data:\n",
      " [[7855 4978]\n",
      " [ 253 9458]]\n",
      "\n",
      "Classification report for testing data:\n",
      "               precision    recall  f1-score   support\n",
      "\n",
      "           0       0.97      0.61      0.75     12833\n",
      "           1       0.66      0.97      0.78      9711\n",
      "\n",
      "    accuracy                           0.77     22544\n",
      "   macro avg       0.81      0.79      0.77     22544\n",
      "weighted avg       0.83      0.77      0.76     22544\n",
      "\n"
     ]
    }
   ],
   "source": [
    "print(\"Choose type of classification: \")\n",
    "print(\"1. Binary Classification\")\n",
    "print(\"2. Multiclass Classification\")\n",
    "\n",
    "num=int(input())\n",
    "if num==1:\n",
    "    binary_class()\n",
    "else:\n",
    "    multiclass()"
   ]
  },
  {
   "cell_type": "code",
   "execution_count": null,
   "id": "2f4fe54e",
   "metadata": {},
   "outputs": [],
   "source": []
  }
 ],
 "metadata": {
  "kernelspec": {
   "display_name": "Python 3 (ipykernel)",
   "language": "python",
   "name": "python3"
  },
  "language_info": {
   "codemirror_mode": {
    "name": "ipython",
    "version": 3
   },
   "file_extension": ".py",
   "mimetype": "text/x-python",
   "name": "python",
   "nbconvert_exporter": "python",
   "pygments_lexer": "ipython3",
   "version": "3.8.8"
  }
 },
 "nbformat": 4,
 "nbformat_minor": 5
}
